{
 "cells": [
  {
   "cell_type": "code",
   "execution_count": 25,
   "id": "320f3ba5",
   "metadata": {},
   "outputs": [],
   "source": [
    "import numpy as np\n",
    "import pandas as pd\n",
    "import matplotlib.pyplot as plt\n",
    "import seaborn as sns\n",
    "\n",
    "from IPython.display import display\n",
    "import warnings\n",
    "\n",
    "warnings.filterwarnings('ignore', category=UserWarning)\n",
    "plt.rcParams['font.family'] = 'Malgun Gothic'\n",
    "plt.rcParams['axes.unicode_minus'] = False"
   ]
  },
  {
   "cell_type": "markdown",
   "id": "dc36fbb5",
   "metadata": {},
   "source": [
    "## 특성 공학 (Feature Engineering)"
   ]
  },
  {
   "cell_type": "code",
   "execution_count": 8,
   "id": "9c3ecd69",
   "metadata": {},
   "outputs": [],
   "source": [
    "import numpy as np\n",
    "import pandas as pd\n",
    "\n",
    "df = pd.read_csv('./perch.csv')\n",
    "perch_data = df.to_numpy()\n",
    "\n",
    "perch_weight = np.array([5.9, 32.0, 40.0, 51.5, 70.0, 100.0, 78.0, 80.0, 85.0, 85.0, 110.0,\n",
    "       115.0, 125.0, 130.0, 120.0, 120.0, 130.0, 135.0, 110.0, 130.0,\n",
    "       150.0, 145.0, 150.0, 170.0, 225.0, 145.0, 188.0, 180.0, 197.0,\n",
    "       218.0, 300.0, 260.0, 265.0, 250.0, 250.0, 300.0, 320.0, 514.0,\n",
    "       556.0, 840.0, 685.0, 700.0, 700.0, 690.0, 900.0, 650.0, 820.0,\n",
    "       850.0, 900.0, 1015.0, 820.0, 1100.0, 1000.0, 1100.0, 1000.0,\n",
    "       1000.0])"
   ]
  },
  {
   "cell_type": "code",
   "execution_count": 9,
   "id": "e4b1984c",
   "metadata": {},
   "outputs": [],
   "source": [
    "from sklearn.model_selection import train_test_split\n",
    "\n",
    "X_train, X_test, y_train, y_test = train_test_split(perch_data, perch_weight, random_state=42)"
   ]
  },
  {
   "cell_type": "code",
   "execution_count": 10,
   "id": "260f9b15",
   "metadata": {},
   "outputs": [
    {
     "name": "stdout",
     "output_type": "stream",
     "text": [
      "[ 9.07538153 69.46401443 38.00385678] -599.1708082981097\n",
      "0.9559326821885706\n",
      "0.8796419177546367\n"
     ]
    }
   ],
   "source": [
    "from sklearn.linear_model import LinearRegression\n",
    "\n",
    "lr = LinearRegression()\n",
    "lr.fit(X_train, y_train)\n",
    "print(lr.coef_, lr.intercept_)\n",
    "print(lr.score(X_train, y_train))\n",
    "print(lr.score(X_test, y_test))"
   ]
  },
  {
   "cell_type": "code",
   "execution_count": 11,
   "id": "a2d99245",
   "metadata": {},
   "outputs": [
    {
     "data": {
      "text/plain": [
       "array([[ 2.,  3.,  5.,  4.,  6., 10.,  9., 15., 25.]])"
      ]
     },
     "execution_count": 11,
     "metadata": {},
     "output_type": "execute_result"
    }
   ],
   "source": [
    "from sklearn.preprocessing import PolynomialFeatures\n",
    "\n",
    "poly = PolynomialFeatures(include_bias=False)\n",
    "poly.fit([[2, 3, 5]])\n",
    "poly.transform([[2, 3, 5]])"
   ]
  },
  {
   "cell_type": "code",
   "execution_count": 12,
   "id": "22b61454",
   "metadata": {},
   "outputs": [
    {
     "data": {
      "text/plain": [
       "((42, 9),\n",
       " array(['x0', 'x1', 'x2', 'x0^2', 'x0 x1', 'x0 x2', 'x1^2', 'x1 x2',\n",
       "        'x2^2'], dtype=object))"
      ]
     },
     "execution_count": 12,
     "metadata": {},
     "output_type": "execute_result"
    }
   ],
   "source": [
    "poly = PolynomialFeatures(include_bias=False)\n",
    "X_train_poly = poly.fit_transform(X_train)\n",
    "X_test_poly = poly.fit_transform(X_test)\n",
    "\n",
    "X_train_poly.shape, poly.get_feature_names_out()"
   ]
  },
  {
   "cell_type": "code",
   "execution_count": 13,
   "id": "27e85745",
   "metadata": {},
   "outputs": [
    {
     "name": "stdout",
     "output_type": "stream",
     "text": [
      "0.9903183436982126\n",
      "0.9714559911594125\n"
     ]
    },
    {
     "data": {
      "text/plain": [
       "(array([  34.80604039,  -88.68430232, -184.11606694,   -2.2696004 ,\n",
       "           8.74890226,    9.41670602,   27.76120631, -119.89306061,\n",
       "          93.68198334]),\n",
       " np.float64(124.06521772229536))"
      ]
     },
     "execution_count": 13,
     "metadata": {},
     "output_type": "execute_result"
    }
   ],
   "source": [
    "lr_p = LinearRegression()\n",
    "lr.fit(X_train_poly, y_train)\n",
    "\n",
    "print(lr.score(X_train_poly, y_train))\n",
    "print(lr.score(X_test_poly, y_test))\n",
    "\n",
    "lr.coef_, lr.intercept_"
   ]
  },
  {
   "cell_type": "code",
   "execution_count": 14,
   "id": "b5061750",
   "metadata": {},
   "outputs": [
    {
     "data": {
      "text/plain": [
       "-144.40564483377855"
      ]
     },
     "execution_count": 14,
     "metadata": {},
     "output_type": "execute_result"
    }
   ],
   "source": [
    "poly = PolynomialFeatures(degree=5, include_bias=False)\n",
    "X_train_p5 = poly.fit_transform(X_train)\n",
    "X_test_p5 = poly.fit_transform(X_test)\n",
    "X_train_p5.shape\n",
    "# 초 과대 적합(Overfitting) -> 훈련셋에는 완벽한데, 테스트는 망한\n",
    "lr.fit(X_train_p5, y_train)\n",
    "lr.score(X_train_p5, y_train)\n",
    "lr.score(X_test_p5, y_test)"
   ]
  },
  {
   "cell_type": "markdown",
   "id": "6287c7b3",
   "metadata": {},
   "source": [
    "# 규제 (Regularization)\n",
    "과대 적합 (Overfiting) 방지를 위함\n",
    "- 릿지(ridge) 회귀 : 계수를 제곱한 값을 기준으로\n",
    "- 라소(lasso) 회구 : 절대값 기준으로 규제"
   ]
  },
  {
   "cell_type": "code",
   "execution_count": 20,
   "id": "0381e121",
   "metadata": {},
   "outputs": [],
   "source": [
    "from sklearn.preprocessing import StandardScaler\n",
    "ss = StandardScaler()\n",
    "# 훈련셋으로 스케일링 학습\n",
    "ss.fit(X_train_p5)\n",
    "# 훈련 & 테스트 모두 훈련셋 기준으로 스케일링 진행\n",
    "X_train_scaled = ss.transform(X_train_p5)\n",
    "X_test_scaled = ss.transform(X_test_p5)\n"
   ]
  },
  {
   "cell_type": "code",
   "execution_count": 21,
   "id": "6b220577",
   "metadata": {},
   "outputs": [
    {
     "name": "stdout",
     "output_type": "stream",
     "text": [
      "0.988728468997471\n",
      "0.9725329582461569\n"
     ]
    }
   ],
   "source": [
    "from sklearn.linear_model import Ridge\n",
    "\n",
    "ridge = Ridge(alpha=10)\n",
    "ridge.fit(X_train_scaled, y_train)\n",
    "print(ridge.score(X_train_scaled, y_train))\n",
    "print(ridge.score(X_test_scaled, y_test))"
   ]
  },
  {
   "cell_type": "code",
   "execution_count": 22,
   "id": "0af8cc81",
   "metadata": {},
   "outputs": [
    {
     "data": {
      "text/plain": [
       "[<matplotlib.lines.Line2D at 0x1bb04385950>]"
      ]
     },
     "execution_count": 22,
     "metadata": {},
     "output_type": "execute_result"
    },
    {
     "data": {
      "image/png": "[encoded data removed]",
      "text/plain": [
       "<Figure size 640x480 with 1 Axes>"
      ]
     },
     "metadata": {},
     "output_type": "display_data"
    }
   ],
   "source": [
    "import matplotlib.pyplot as plt\n",
    "train_score = []\n",
    "test_score = []\n",
    "\n",
    "alpha_list = [0.001, 0.005, 0.01, 0.05, 0.1, 0.5, 1, 5, 10, 50, 100]\n",
    "\n",
    "for alpha in alpha_list:\n",
    "    ridge = Ridge(alpha=alpha)\n",
    "    ridge.fit(X_train_scaled, y_train)\n",
    "    s1 = ridge.score(X_train_scaled, y_train)\n",
    "    s2 = ridge.score(X_test_scaled, y_test)\n",
    "    train_score.append(s1)\n",
    "    test_score.append(s2)\n",
    "\n",
    "\n",
    "plt.plot(np.log10(alpha_list), train_score)\n",
    "plt.plot(np.log10(alpha_list), test_score)"
   ]
  },
  {
   "cell_type": "code",
   "execution_count": 23,
   "id": "c1c422c8",
   "metadata": {},
   "outputs": [
    {
     "name": "stdout",
     "output_type": "stream",
     "text": [
      "0.9907126320312711 0.9832630119139567\n"
     ]
    }
   ],
   "source": [
    "# alpha = 0.1\n",
    "ridge = Ridge(alpha=0.05)\n",
    "ridge.fit(X_train_scaled, y_train)\n",
    "s1 = ridge.score(X_train_scaled, y_train)\n",
    "s2 = ridge.score(X_test_scaled, y_test)\n",
    "print(s1, s2)"
   ]
  },
  {
   "cell_type": "code",
   "execution_count": 26,
   "id": "5812ca9a",
   "metadata": {},
   "outputs": [
    {
     "data": {
      "text/plain": [
       "[<matplotlib.lines.Line2D at 0x1bb047f3890>]"
      ]
     },
     "execution_count": 26,
     "metadata": {},
     "output_type": "execute_result"
    },
    {
     "data": {
      "image/png": "[encoded data removed]",
      "text/plain": [
       "<Figure size 640x480 with 1 Axes>"
      ]
     },
     "metadata": {},
     "output_type": "display_data"
    }
   ],
   "source": [
    "from sklearn.linear_model import Lasso\n",
    "\n",
    "train_score = []\n",
    "test_score = []\n",
    "\n",
    "alpha_list = [0.001, 0.005, 0.01, 0.05, 0.1, 0.5, 1, 5, 10, 50, 100]\n",
    "\n",
    "for alpha in alpha_list:\n",
    "    lasso = Lasso(alpha=alpha, max_iter=10000)\n",
    "    lasso.fit(X_train_scaled, y_train)\n",
    "    s1 = lasso.score(X_train_scaled, y_train)\n",
    "    s2 = lasso.score(X_test_scaled, y_test)\n",
    "    train_score.append(s1)\n",
    "    test_score.append(s2)\n",
    "\n",
    "\n",
    "plt.plot(np.log10(alpha_list), train_score)\n",
    "plt.plot(np.log10(alpha_list), test_score)"
   ]
  },
  {
   "cell_type": "code",
   "execution_count": 27,
   "id": "3422f513",
   "metadata": {},
   "outputs": [
    {
     "name": "stdout",
     "output_type": "stream",
     "text": [
      "0.9887624603020236 0.9830309645308443\n"
     ]
    },
    {
     "data": {
      "text/plain": [
       "array([31.53335736])"
      ]
     },
     "execution_count": 27,
     "metadata": {},
     "output_type": "execute_result"
    }
   ],
   "source": [
    "lasso = Lasso(alpha=10, max_iter=10000)\n",
    "lasso.fit(X_train_scaled, y_train)\n",
    "\n",
    "s1 = lasso.score(X_train_scaled, y_train)\n",
    "s2 = lasso.score(X_test_scaled, y_test)\n",
    "print(s1, s2)\n",
    "\n",
    "X = poly.transform([[13.7, 3.53, 2]])\n",
    "X = ss.transform(X)\n",
    "lasso.predict(X)"
   ]
  }
 ],
 "metadata": {
  "kernelspec": {
   "display_name": "Python 3",
   "language": "python",
   "name": "python3"
  },
  "language_info": {
   "codemirror_mode": {
    "name": "ipython",
    "version": 3
   },
   "file_extension": ".py",
   "mimetype": "text/x-python",
   "name": "python",
   "nbconvert_exporter": "python",
   "pygments_lexer": "ipython3",
   "version": "3.13.2"
  }
 },
 "nbformat": 4,
 "nbformat_minor": 5
}
